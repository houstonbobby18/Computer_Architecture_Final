{
 "cells": [
  {
   "cell_type": "code",
   "execution_count": 4,
   "metadata": {},
   "outputs": [
    {
     "name": "stdout",
     "output_type": "stream",
     "text": [
      "         Fruit   Other Name  Days Good Counter  Days Good Pantry  \\\n",
      "0        apple        apple                  5                21   \n",
      "1       banana       banana                  3                 3   \n",
      "2     beetroot     beetroot                  7                10   \n",
      "3  bell pepper  bell pepper                  1                 2   \n",
      "4      cabbage      cabbage                  7                21   \n",
      "\n",
      "   Days Good Refrigerator  Days Good Freezer    Notes  \n",
      "0                      28                224  Not Cut  \n",
      "1                       5                 84      NaN  \n",
      "2                      17                280      NaN  \n",
      "3                      14                168      NaN  \n",
      "4                      56                168      NaN  \n"
     ]
    }
   ],
   "source": [
    "import pandas as pd\n",
    "\n",
    "def load_data():\n",
    "    df = pd.read_excel('Fruit_Go_Bad_Dates.xlsx')\n",
    "    return df\n",
    "\n",
    "data_frame = load_data()\n",
    "# Drop Source and Source 2 columns\n",
    "data_frame = data_frame.drop(['Source', 'Source 2'], axis=1)\n",
    "print(data_frame.head())"
   ]
  },
  {
   "cell_type": "code",
   "execution_count": 5,
   "metadata": {},
   "outputs": [
    {
     "name": "stdout",
     "output_type": "stream",
     "text": [
      "(0, 'apple', 'apple', 5, 21, 28, 224, 'Not Cut')\n",
      "(1, 'banana', 'banana', 3, 3, 5, 84, None)\n",
      "(2, 'beetroot', 'beetroot', 7, 10, 17, 280, None)\n",
      "(3, 'bell pepper', 'bell pepper', 1, 2, 14, 168, None)\n",
      "(4, 'cabbage', 'cabbage', 7, 21, 56, 168, None)\n",
      "(5, 'capsicum', 'bell pepper', 1, 2, 14, 168, None)\n",
      "(6, 'carrot', 'carrot', 1, 1, 21, 280, None)\n",
      "(7, 'cauliflower', 'cauliflower', 1, 1, 5, 280, None)\n",
      "(8, 'chilli pepper', 'chilli pepper', 1, 1, 7, 168, None)\n",
      "(9, 'corn', 'corn', 1, 1, 2, 224, 'Whole')\n",
      "(10, 'cucumber', 'cucumber', 1, 1, 5, 168, None)\n",
      "(11, 'eggplant', 'eggplant', 1, 2, 5, 168, None)\n",
      "(12, 'garlic', 'garlic', 1, 84, 1, 168, 'Frozen Chopped')\n",
      "(13, 'ginger', 'ginger', 1, 1, 28, 140, None)\n",
      "(14, 'grapes', 'grapes', 1, 1, 14, 365, None)\n",
      "(15, 'jalepeno', 'jalepeno', 1, 1, 7, 168, None)\n",
      "(16, 'kiwi', 'kiwi', 1, 2, 5, 84, None)\n",
      "(17, 'lemon', 'lemon', 1, 3, 21, 112, None)\n",
      "(18, 'lettuce', 'lettuce', 1, 1, 15, 168, None)\n",
      "(19, 'mango', 'mango', 1, 1, 5, 168, None)\n",
      "(20, 'onion', 'onion', 1, 56, 84, 224, None)\n",
      "(21, 'orange', 'orange', 2, 3, 7, 365, None)\n",
      "(22, 'paprika', 'paprika', 1, 1, 1, 1, None)\n",
      "(23, 'pear', 'pear', 1, 1, 3, 365, None)\n",
      "(24, 'peas', 'peas', 1, 1, 7, 224, None)\n",
      "(25, 'pineapple', 'pineapple', 3, 3, 6, 365, None)\n",
      "(26, 'pomegranate', 'pomegranate', 4, 14, 56, 365, None)\n",
      "(27, 'potato', 'potato', 7, 21, 84, 280, None)\n",
      "(28, 'raddish', 'raddish', 2, 4, 7, 168, None)\n",
      "(29, 'soy beans', 'soy beans', 3, 5, 10, 168, None)\n",
      "(30, 'spinach', 'spinach', 1, 1, 10, 365, None)\n",
      "(31, 'sweetcorn', 'sweetcorn', 1, 1, 5, 224, None)\n",
      "(32, 'sweetpotato', 'sweetpotato', 3, 7, 56, 1, None)\n",
      "(33, 'tomato', 'tomato', 1, 1, 3, 365, None)\n",
      "(34, 'turnip', 'turnip', 1, 1, 14, 224, None)\n",
      "(35, 'watermelon', 'watermelon', 3, 5, 21, 224, None)\n"
     ]
    }
   ],
   "source": [
    "# importing sqlite3 module\n",
    "import sqlite3\n",
    "\n",
    "import os\n",
    "\n",
    "database = 'fruits_duration.db'\n",
    "\n",
    "database = sqlite3.connect('fruits_duration.db')\n",
    "\n",
    "data_frame.to_sql('fruits_duration', database, if_exists='replace', index=True)\n",
    "\n",
    "cursor = database.cursor()\n",
    "\n",
    "# Query to get all fruits\n",
    "query = 'SELECT * FROM fruits_duration'\n",
    "cursor.execute(query)\n",
    "# Print each row in the database\n",
    "for row in cursor.fetchall():\n",
    "    print(row)\n",
    "\n"
   ]
  },
  {
   "cell_type": "code",
   "execution_count": 6,
   "metadata": {},
   "outputs": [
    {
     "name": "stdout",
     "output_type": "stream",
     "text": [
      "Fruit not found in database\n"
     ]
    }
   ],
   "source": [
    "class Fruit:\n",
    "    def __init__(self, fruit):\n",
    "        self.fruit = fruit.lower()\n",
    "        try:\n",
    "            self.fruit_data = Fruit.get_fruit(fruit.lower())\n",
    "            self.counter_storage = Fruit.get_counter_storage(self.fruit_data)\n",
    "            self.panty_storage = Fruit.get_panty_storage(self.fruit_data)\n",
    "            self.refrigerator_storage = Fruit.get_refrigerator_storage(self.fruit_data)\n",
    "            self.freezer_storage = Fruit.get_freezer_storage(self.fruit_data)\n",
    "            self.notes = Fruit.get_notes(self.fruit_data)\n",
    "        except:\n",
    "            print('Fruit not found in database')\n",
    "\n",
    "    def get_fruit(fruit):\n",
    "        query = f\"SELECT * FROM fruits_duration WHERE Fruit = '{fruit}'\"\n",
    "        cursor.execute(query)\n",
    "        return cursor.fetchall()\n",
    "\n",
    "    def get_counter_storage(fruit):\n",
    "        days = int(fruit[0][3])\n",
    "        return days\n",
    "\n",
    "    def get_panty_storage(fruit):\n",
    "        days = int(fruit[0][4])\n",
    "        return days\n",
    "\n",
    "    def get_refrigerator_storage(fruit):\n",
    "        days = int(fruit[0][5])\n",
    "        return days\n",
    "\n",
    "    def get_freezer_storage(fruit):\n",
    "        days = int(fruit[0][6])\n",
    "        return days\n",
    "\n",
    "    def get_notes(fruit):\n",
    "        notes = fruit[0][7]\n",
    "        if notes == 'None':\n",
    "            return None\n",
    "        else:\n",
    "            return notes\n",
    "    \n",
    "    def __str__(self):\n",
    "        return f\"Fruit: {self.fruit}\\nCounter Storage: {self.counter_storage}\\nPanty Storage: {self.panty_storage}\\nRefrigerator Storage: {self.refrigerator_storage}\\nFreezer Storage: {self.freezer_storage}\\nNotes: {self.notes}\"\n",
    "\n",
    "\n",
    "\n",
    "fruit = Fruit('rose')\n",
    "\n",
    "\n"
   ]
  }
 ],
 "metadata": {
  "kernelspec": {
   "display_name": ".venv",
   "language": "python",
   "name": "python3"
  },
  "language_info": {
   "codemirror_mode": {
    "name": "ipython",
    "version": 3
   },
   "file_extension": ".py",
   "mimetype": "text/x-python",
   "name": "python",
   "nbconvert_exporter": "python",
   "pygments_lexer": "ipython3",
   "version": "3.9.6"
  }
 },
 "nbformat": 4,
 "nbformat_minor": 2
}
