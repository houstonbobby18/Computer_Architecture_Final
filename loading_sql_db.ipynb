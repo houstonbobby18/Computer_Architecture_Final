{
 "cells": [
  {
   "cell_type": "code",
   "execution_count": 9,
   "metadata": {},
   "outputs": [
    {
     "name": "stdout",
     "output_type": "stream",
     "text": [
      "         Fruit   Other Name  Days Good Counter  Days Good Pantry  \\\n",
      "0        apple        apple                  5                21   \n",
      "1       banana       banana                  3                 3   \n",
      "2     beetroot     beetroot                  7                10   \n",
      "3  bell pepper  bell pepper                  1                 2   \n",
      "4      cabbage      cabbage                  7                21   \n",
      "\n",
      "   Days Good Refrigerator  Days Good Freezer    Notes  \\\n",
      "0                      28                224  Not Cut   \n",
      "1                       5                 84      NaN   \n",
      "2                      17                280      NaN   \n",
      "3                      14                168      NaN   \n",
      "4                      56                168      NaN   \n",
      "\n",
      "                                              Source  \\\n",
      "0  https://www.healthline.com/nutrition/how-long-...   \n",
      "1  https://www.glad.com/wp-content/uploads/2020/0...   \n",
      "2  https://www.canr.msu.edu/uploads/236/61444/Bee...   \n",
      "3  https://www.yahoo.com/lifestyle/long-bell-pepp...   \n",
      "4  https://cedarcirclefarm.org/tips/entry/cabbage...   \n",
      "\n",
      "                                            Source 2  \n",
      "0                                                NaN  \n",
      "1                                                NaN  \n",
      "2                                                NaN  \n",
      "3  https://www.eatingwell.com/article/7966561/can...  \n",
      "4  https://itsavegworldafterall.com/how-to-freeze...  \n"
     ]
    }
   ],
   "source": [
    "import pandas as pd\n",
    "\n",
    "def load_data():\n",
    "    df = pd.read_excel('Fruit_Go_Bad_Dates.xlsx')\n",
    "    return df\n",
    "\n",
    "data_frame = load_data()\n",
    "# Drop Unnamed: 9 and Unnamed: 10 columns\n",
    "\n",
    "print(data_frame.head())"
   ]
  },
  {
   "cell_type": "code",
   "execution_count": 11,
   "metadata": {},
   "outputs": [
    {
     "name": "stdout",
     "output_type": "stream",
     "text": [
      "(0, 'apple', 'apple', 5, 21, 28, 224, 'Not Cut', 'https://www.healthline.com/nutrition/how-long-do-apples-last', None)\n",
      "(1, 'banana', 'banana', 3, 3, 5, 84, None, 'https://www.glad.com/wp-content/uploads/2020/05/GladUC_HowtoFreezeStoreBananas.pdf', None)\n",
      "(2, 'beetroot', 'beetroot', 7, 10, 17, 280, None, 'https://www.canr.msu.edu/uploads/236/61444/Beets.pdf', None)\n",
      "(3, 'bell pepper', 'bell pepper', 1, 2, 14, 168, None, 'https://www.yahoo.com/lifestyle/long-bell-peppers-last-fridge-124114170.html', 'https://www.eatingwell.com/article/7966561/can-you-freeze-bell-pepper/')\n",
      "(4, 'cabbage', 'cabbage', 7, 21, 56, 168, None, 'https://cedarcirclefarm.org/tips/entry/cabbage-using-storing', 'https://itsavegworldafterall.com/how-to-freeze-cabbage/')\n",
      "(5, 'capsicum', 'bell pepper', 1, 2, 14, 168, None, 'https://www.yahoo.com/lifestyle/long-bell-peppers-last-fridge-124114170.html', 'https://www.eatingwell.com/article/7966561/can-you-freeze-bell-pepper/')\n",
      "(6, 'carrot', 'carrot', 1, 1, 21, 280, None, 'https://www.glad.com/wp-content/uploads/2020/05/GladUC_HowtoFreezeStoreCarrots-1.pdf', None)\n",
      "(7, 'cauliflower', 'cauliflower', 1, 1, 5, 280, None, 'https://www.mccormick.com/articles/eatingwell/how-to-store-cauliflower', None)\n",
      "(8, 'chilli pepper', 'chilli pepper', 1, 1, 7, 168, None, 'https://fridge.com/blogs/news/how-long-does-chili-pepper-last-in-the-fridge', None)\n",
      "(9, 'corn', 'corn', 1, 1, 2, 224, 'Whole', 'https://extension.umn.edu/preserving-and-preparing/freezing-sweet-corn-whole-kernels', 'https://www.southernliving.com/food/veggies/corn/how-to-store-corn-on-the-cob')\n",
      "(10, 'cucumber', 'cucumber', 1, 1, 5, 168, None, 'https://www.masterclass.com/articles/how-to-keep-cucumbers-fresh-explained', 'https://www.masterclass.com/articles/freezing-cucumber-explained')\n",
      "(11, 'eggplant', 'eggplant', 1, 2, 5, 168, None, 'https://www.realsimple.com/can-you-freeze-eggplant-7559801', None)\n",
      "(12, 'garlic', 'garlic', 1, 84, 1, 168, 'Frozen Chopped', 'https://www.allrecipes.com/article/how-to-store-garlic/', 'https://www.marthastewart.com/2123790/how-store-garlic')\n",
      "(13, 'ginger', 'ginger', 1, 1, 28, 140, None, 'https://www.realsimple.com/how-to-store-ginger-6752895', None)\n",
      "(14, 'grapes', 'grapes', 1, 1, 14, 365, None, 'https://www.southernliving.com/how-to-store-grapes-7497828', None)\n",
      "(15, 'jalepeno', 'jalepeno', 1, 1, 7, 168, None, 'https://fridge.com/blogs/news/how-long-does-chili-pepper-last-in-the-fridge', None)\n",
      "(16, 'kiwi', 'kiwi', 1, 2, 5, 84, None, 'https://www.masterclass.com/articles/how-to-store-kiwi-explained', None)\n",
      "(17, 'lemon', 'lemon', 1, 3, 21, 112, None, 'https://www.glad.com/food-protection/protection-pointers/how-to-store-and-freeze-lemons-to-last/', None)\n",
      "(18, 'lettuce', 'lettuce', 1, 1, 15, 168, None, 'https://www.hitchcockfarms.com/blog/how-to-keep-lettuce-fresh', None)\n",
      "(19, 'mango', 'mango', 1, 1, 5, 168, None, 'https://www.mango.org/ripening-and-storing-mangos/', None)\n",
      "(20, 'onion', 'onion', 1, 56, 84, 224, None, 'https://www.allrecipes.com/article/how-to-store-onions/', None)\n",
      "(21, 'orange', 'orange', 2, 3, 7, 365, None, 'https://www.allrecipes.com/article/how-to-store-oranges/', None)\n",
      "(22, 'paprika', 'paprika', 1, 1, 1, 1, None, None, None)\n",
      "(23, 'pear', 'pear', 1, 1, 3, 365, None, 'https://www.allrecipes.com/how-to-store-pears-7974564', None)\n",
      "(24, 'peas', 'peas', 1, 1, 7, 224, None, 'https://www.realsimple.com/how-to-store-peas-7496332', None)\n",
      "(25, 'pineapple', 'pineapple', 3, 3, 6, 365, None, 'https://hillstreetgrocer.com/featured-content/tips-and-tricks/how-freeze-fresh-pineapple-kitchen-helper', 'https://www.masterclass.com/articles/how-to-store-pineapple')\n",
      "(26, 'pomegranate', 'pomegranate', 4, 14, 56, 365, None, 'https://www.masterclass.com/articles/how-to-store-pomegranate', None)\n",
      "(27, 'potato', 'potato', 7, 21, 84, 280, None, 'https://www.glad.com/food-protection/protection-pointers/how-to-store-potatoes/', None)\n",
      "(28, 'raddish', 'raddish', 2, 4, 7, 168, None, 'https://www.allrecipes.com/article/how-to-store-radishes/', None)\n",
      "(29, 'soy beans', 'soy beans', 3, 5, 10, 168, None, 'https://fridge.com/blogs/news/how-long-can-soybeans-last-in-the-fridge', None)\n",
      "(30, 'spinach', 'spinach', 1, 1, 10, 365, None, 'https://www.allrecipes.com/article/how-to-store-spinach/', None)\n",
      "(31, 'sweetcorn', 'sweetcorn', 1, 1, 5, 224, None, 'https://www.myrecipes.com/how-to/how-to-store-corn', None)\n",
      "(32, 'sweetpotato', 'sweetpotato', 3, 7, 56, 1, None, 'https://www.glad.com/food-protection/protection-pointers/how-to-store-sweet-potatoes/', None)\n",
      "(33, 'tomato', 'tomato', 1, 1, 3, 365, None, 'https://www.seriouseats.com/why-you-should-refrigerate-tomatoes', 'https://www.glad.com/food-protection/protection-pointers/how-to-store-tomatoes/')\n",
      "(34, 'turnip', 'turnip', 1, 1, 14, 224, None, 'https://www.canr.msu.edu/uploads/files/HNI46.pdf', None)\n",
      "(35, 'watermelon', 'watermelon', 3, 5, 21, 224, None, 'https://kickassbaker.com/how-long-does-watermelon-last-in-the-fridge/', 'https://www.eatingwell.com/article/7908907/can-you-freeze-watermelon/')\n"
     ]
    }
   ],
   "source": [
    "# importing sqlite3 module\n",
    "import sqlite3\n",
    "\n",
    "import os\n",
    "\n",
    "database = 'fruits_duration.db'\n",
    "\n",
    "database = sqlite3.connect('fruits_duration.db')\n",
    "\n",
    "data_frame.to_sql('fruits_duration', database, if_exists='replace', index=True)\n",
    "\n",
    "cursor = database.cursor()\n",
    "\n",
    "# Query to get all fruits\n",
    "query = 'SELECT * FROM fruits_duration'\n",
    "cursor.execute(query)\n",
    "# Print each row in the database\n",
    "for row in cursor.fetchall():\n",
    "    print(row)\n",
    "\n"
   ]
  }
 ],
 "metadata": {
  "kernelspec": {
   "display_name": "Python 3",
   "language": "python",
   "name": "python3"
  },
  "language_info": {
   "codemirror_mode": {
    "name": "ipython",
    "version": 3
   },
   "file_extension": ".py",
   "mimetype": "text/x-python",
   "name": "python",
   "nbconvert_exporter": "python",
   "pygments_lexer": "ipython3",
   "version": "3.12.6"
  }
 },
 "nbformat": 4,
 "nbformat_minor": 2
}
