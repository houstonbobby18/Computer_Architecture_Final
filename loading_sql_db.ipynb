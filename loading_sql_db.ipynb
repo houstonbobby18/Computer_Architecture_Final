{
 "cells": [
  {
   "cell_type": "code",
   "execution_count": 3,
   "metadata": {},
   "outputs": [
    {
     "name": "stdout",
     "output_type": "stream",
     "text": [
      "         Fruit   Other Name  Days Good Counter  Days Good Pantry  \\\n",
      "0        apple        apple                  5                21   \n",
      "1       banana       banana                  3                 3   \n",
      "2     beetroot     beetroot                  7                10   \n",
      "3  bell pepper  bell pepper                  1                 2   \n",
      "4      cabbage      cabbage                  7                21   \n",
      "\n",
      "   Days Good Refrigerator  Days Good Freezer    Notes  \\\n",
      "0                      28                224  Not Cut   \n",
      "1                       5                 84      NaN   \n",
      "2                      17                280      NaN   \n",
      "3                      14                168      NaN   \n",
      "4                      56                168      NaN   \n",
      "\n",
      "                                              Source  \\\n",
      "0  https://www.healthline.com/nutrition/how-long-...   \n",
      "1  https://www.glad.com/wp-content/uploads/2020/0...   \n",
      "2  https://www.canr.msu.edu/uploads/236/61444/Bee...   \n",
      "3  https://www.yahoo.com/lifestyle/long-bell-pepp...   \n",
      "4  https://cedarcirclefarm.org/tips/entry/cabbage...   \n",
      "\n",
      "                                            Source 2  \n",
      "0                                                NaN  \n",
      "1                                                NaN  \n",
      "2                                                NaN  \n",
      "3  https://www.eatingwell.com/article/7966561/can...  \n",
      "4  https://itsavegworldafterall.com/how-to-freeze...  \n"
     ]
    }
   ],
   "source": [
    "import pandas as pd\n",
    "\n",
    "def load_data():\n",
    "    df = pd.read_excel('Fruit_Go_Bad_Dates.xlsx')\n",
    "    return df\n",
    "\n",
    "data_frame = load_data()\n",
    "# Drop Unnamed: 9 and Unnamed: 10 columns\n",
    "\n",
    "data_frame.drop(['Unnamed: 9', 'Unnamed: 10'], axis=1, inplace=True)\n",
    "print(data_frame.head())"
   ]
  }
 ],
 "metadata": {
  "kernelspec": {
   "display_name": "Python 3",
   "language": "python",
   "name": "python3"
  },
  "language_info": {
   "codemirror_mode": {
    "name": "ipython",
    "version": 3
   },
   "file_extension": ".py",
   "mimetype": "text/x-python",
   "name": "python",
   "nbconvert_exporter": "python",
   "pygments_lexer": "ipython3",
   "version": "3.9.6"
  }
 },
 "nbformat": 4,
 "nbformat_minor": 2
}
