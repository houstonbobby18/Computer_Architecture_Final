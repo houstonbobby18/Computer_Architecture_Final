{
 "cells": [
  {
   "cell_type": "code",
   "execution_count": 7,
   "metadata": {},
   "outputs": [
    {
     "name": "stdout",
     "output_type": "stream",
     "text": [
      "[(1, 'Apple', 10, 0.5, 1726622064, 1727054064), (2, 'Banana', 20, 0.25, 1726622064, 1727486064), (3, 'Orange', 30, 0.75, 1726622064, 1727918064), (4, 'Apple', 10, 0.5, 1726622166, 1727054166), (5, 'Apple', 10, 0.5, 1726622166, 1727054166), (6, 'Banana', 20, 0.25, 1726622166, 1727486166), (7, 'Orange', 30, 0.75, 1726622166, 1727918166), (8, 'Apple', 10, 0.5, 1726622210, 1727054210), (9, 'Apple', 10, 0.5, 1726622210, 1727054210), (10, 'Banana', 20, 0.25, 1726622210, 1727486210), (11, 'Orange', 30, 0.75, 1726622210, 1727918210)]\n"
     ]
    }
   ],
   "source": [
    "import sqlite3\n",
    "import os\n",
    "import time\n",
    "\n",
    "database_name = 'inventory.db'\n",
    "\n",
    "def get_unixtime():\n",
    "    return int(time.time())\n",
    "\n",
    "def convert_unixtime_to_date(unixtime):\n",
    "    return time.strftime('%Y-%m-%d %H:%M:%S', time.localtime(unixtime))\n",
    "\n",
    "def add_days_to_unixtime(unixtime, days):\n",
    "    return unixtime + (days * 86400)\n",
    "\n",
    "def create_table():\n",
    "    if os.path.exists(database_name):\n",
    "        return\n",
    "    conn = sqlite3.connect(database_name)\n",
    "    c = conn.cursor()\n",
    "    c.execute('''CREATE TABLE inventory\n",
    "                 (id INTEGER PRIMARY KEY, name TEXT, quantity INTEGER, price REAL, date_added INTEGER, expiration_date INTEGER)''')\n",
    "    conn.commit()\n",
    "    conn.close()\n",
    "\n",
    "def add_item(name, quantity, price, expiration_date):\n",
    "    conn = sqlite3.connect(database_name)\n",
    "    c = conn.cursor()\n",
    "    c.execute(\"INSERT INTO inventory (name, quantity, price, date_added, expiration_date) VALUES (?, ?, ?, ?, ?)\", (name, quantity, price, get_unixtime(), expiration_date))\n",
    "    conn.commit()\n",
    "    conn.close()\n",
    "\n",
    "def get_item(id):\n",
    "    conn = sqlite3.connect(database_name)\n",
    "    c = conn.cursor()\n",
    "    c.execute(\"SELECT * FROM inventory WHERE id=?\", (id,))\n",
    "    item = c.fetchone()\n",
    "    conn.close()\n",
    "    return item\n",
    "\n",
    "def get_all_items():\n",
    "    conn = sqlite3.connect(database_name)\n",
    "    c = conn.cursor()\n",
    "    c.execute(\"SELECT * FROM inventory\")\n",
    "    items = c.fetchall()\n",
    "    conn.close()\n",
    "    return items\n",
    "\n",
    "def get_expired_items():\n",
    "    conn = sqlite3.connect(database_name)\n",
    "    c = conn.cursor()\n",
    "    c.execute(\"SELECT * FROM inventory WHERE expiration_date < ?\", (get_unixtime(),))\n",
    "    items = c.fetchall()\n",
    "    conn.close()\n",
    "    return items\n",
    "\n",
    "def get_expiring_items(days):\n",
    "    conn = sqlite3.connect(database_name)\n",
    "    c = conn.cursor()\n",
    "    c.execute(\"SELECT * FROM inventory WHERE expiration_date < ?\", (add_days_to_unixtime(get_unixtime(), days),))\n",
    "    items = c.fetchall()\n",
    "    conn.close()\n",
    "    return items\n",
    "\n",
    "def get_items_by_name(name):\n",
    "    conn = sqlite3.connect(database_name)\n",
    "    c = conn.cursor()\n",
    "    c.execute(\"SELECT * FROM inventory WHERE name=?\", (name,))\n",
    "    items = c.fetchall()\n",
    "    conn.close()\n",
    "    return items\n",
    "\n",
    "# Test Create Table\n",
    "create_table()\n",
    "# Load some test data\n",
    "add_item('Apple', 10, 0.50, add_days_to_unixtime(get_unixtime(), 5))\n",
    "add_item('Apple', 10, 0.50, add_days_to_unixtime(get_unixtime(), 5))\n",
    "\n",
    "add_item('Banana', 20, 0.25, add_days_to_unixtime(get_unixtime(), 10))\n",
    "add_item('Orange', 30, 0.75, add_days_to_unixtime(get_unixtime(), 15))\n",
    "# Get all items\n",
    "print(get_all_items())\n",
    "\n"
   ]
  },
  {
   "cell_type": "code",
   "execution_count": 1,
   "metadata": {},
   "outputs": [
    {
     "name": "stdout",
     "output_type": "stream",
     "text": [
      "Fruit: apple\n",
      "Counter Storage: 5\n",
      "Panty Storage: 21\n",
      "Refrigerator Storage: 28\n",
      "Freezer Storage: 224\n",
      "Notes: Not Cut\n"
     ]
    }
   ],
   "source": [
    "\n"
   ]
  }
 ],
 "metadata": {
  "kernelspec": {
   "display_name": ".venv",
   "language": "python",
   "name": "python3"
  },
  "language_info": {
   "codemirror_mode": {
    "name": "ipython",
    "version": 3
   },
   "file_extension": ".py",
   "mimetype": "text/x-python",
   "name": "python",
   "nbconvert_exporter": "python",
   "pygments_lexer": "ipython3",
   "version": "3.12.6"
  }
 },
 "nbformat": 4,
 "nbformat_minor": 2
}
